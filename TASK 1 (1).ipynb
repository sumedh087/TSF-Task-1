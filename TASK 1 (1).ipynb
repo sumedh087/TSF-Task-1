{
 "cells": [
  {
   "cell_type": "markdown",
   "id": "6a6305bf",
   "metadata": {},
   "source": [
    "\n",
    "# Linear Regression with Python Scikit Learn\n",
    "\n",
    "What is Simple Linear Regression?\n",
    "\n",
    "Simple linear regression is a linear regression model with a single explanatory variable. That is, it concerns two-dimensional sample points with one independent variable and one dependent variable and finds a linear function that, as accurately as possible, predicts the dependent variable values as a function of the independent variable. \n",
    "\n",
    "\n",
    "\n"
   ]
  },
  {
   "cell_type": "markdown",
   "id": "1bda3a4a",
   "metadata": {},
   "source": [
    "# THE SPARKS FOUNDATION\n"
   ]
  },
  {
   "cell_type": "markdown",
   "id": "4347afa5",
   "metadata": {},
   "source": [
    "# TASK 1: Prediction Using Supervised ML\n",
    "\n",
    "In this regression task we will predict the percentage of marks that a student is expected to score based upon the number of hours they studied. This is a simple linear regression task as it involves just two variables."
   ]
  },
  {
   "cell_type": "code",
   "execution_count": 1,
   "id": "b1fe45e7",
   "metadata": {},
   "outputs": [],
   "source": [
    "#IMPORTING THE REQUIRED LIBRARIES\n",
    "import numpy as np\n",
    "import pandas as pd\n",
    "import matplotlib.pyplot as plt\n",
    "import seaborn as sns\n",
    "sns.set()\n",
    "#LIBRARIES REQUIRED FOR FITTING THE LINEAR REGRESSION MODEL\n",
    "from sklearn.linear_model import LinearRegression\n",
    "from sklearn.model_selection import train_test_split\n",
    "from sklearn import metrics"
   ]
  },
  {
   "cell_type": "code",
   "execution_count": 2,
   "id": "65be4594",
   "metadata": {},
   "outputs": [],
   "source": [
    "#LOAD THE DATA\n",
    "data  = pd.read_csv('student_scores - student_scores.csv')"
   ]
  },
  {
   "cell_type": "code",
   "execution_count": 3,
   "id": "5fb940fd",
   "metadata": {},
   "outputs": [
    {
     "data": {
      "text/html": [
       "<div>\n",
       "<style scoped>\n",
       "    .dataframe tbody tr th:only-of-type {\n",
       "        vertical-align: middle;\n",
       "    }\n",
       "\n",
       "    .dataframe tbody tr th {\n",
       "        vertical-align: top;\n",
       "    }\n",
       "\n",
       "    .dataframe thead th {\n",
       "        text-align: right;\n",
       "    }\n",
       "</style>\n",
       "<table border=\"1\" class=\"dataframe\">\n",
       "  <thead>\n",
       "    <tr style=\"text-align: right;\">\n",
       "      <th></th>\n",
       "      <th>Hours</th>\n",
       "      <th>Scores</th>\n",
       "    </tr>\n",
       "  </thead>\n",
       "  <tbody>\n",
       "    <tr>\n",
       "      <th>0</th>\n",
       "      <td>2.5</td>\n",
       "      <td>21</td>\n",
       "    </tr>\n",
       "    <tr>\n",
       "      <th>1</th>\n",
       "      <td>5.1</td>\n",
       "      <td>47</td>\n",
       "    </tr>\n",
       "    <tr>\n",
       "      <th>2</th>\n",
       "      <td>3.2</td>\n",
       "      <td>27</td>\n",
       "    </tr>\n",
       "    <tr>\n",
       "      <th>3</th>\n",
       "      <td>8.5</td>\n",
       "      <td>75</td>\n",
       "    </tr>\n",
       "    <tr>\n",
       "      <th>4</th>\n",
       "      <td>3.5</td>\n",
       "      <td>30</td>\n",
       "    </tr>\n",
       "  </tbody>\n",
       "</table>\n",
       "</div>"
      ],
      "text/plain": [
       "   Hours  Scores\n",
       "0    2.5      21\n",
       "1    5.1      47\n",
       "2    3.2      27\n",
       "3    8.5      75\n",
       "4    3.5      30"
      ]
     },
     "execution_count": 3,
     "metadata": {},
     "output_type": "execute_result"
    }
   ],
   "source": [
    "#PRINT THE FIRST 5 ENTRIES OF THE DATAFRAME\n",
    "data.head()"
   ]
  },
  {
   "cell_type": "code",
   "execution_count": 4,
   "id": "fb9e5ac7",
   "metadata": {},
   "outputs": [
    {
     "data": {
      "text/plain": [
       "Hours     0\n",
       "Scores    0\n",
       "dtype: int64"
      ]
     },
     "execution_count": 4,
     "metadata": {},
     "output_type": "execute_result"
    }
   ],
   "source": [
    "#CHECK IF THERE ARE ANY MISSING VALUES IN OUR DATASET\n",
    "data.isnull().sum()"
   ]
  },
  {
   "cell_type": "code",
   "execution_count": 5,
   "id": "b3e8a042",
   "metadata": {},
   "outputs": [
    {
     "data": {
      "text/html": [
       "<div>\n",
       "<style scoped>\n",
       "    .dataframe tbody tr th:only-of-type {\n",
       "        vertical-align: middle;\n",
       "    }\n",
       "\n",
       "    .dataframe tbody tr th {\n",
       "        vertical-align: top;\n",
       "    }\n",
       "\n",
       "    .dataframe thead th {\n",
       "        text-align: right;\n",
       "    }\n",
       "</style>\n",
       "<table border=\"1\" class=\"dataframe\">\n",
       "  <thead>\n",
       "    <tr style=\"text-align: right;\">\n",
       "      <th></th>\n",
       "      <th>Hours</th>\n",
       "      <th>Scores</th>\n",
       "    </tr>\n",
       "  </thead>\n",
       "  <tbody>\n",
       "    <tr>\n",
       "      <th>count</th>\n",
       "      <td>25.000000</td>\n",
       "      <td>25.000000</td>\n",
       "    </tr>\n",
       "    <tr>\n",
       "      <th>mean</th>\n",
       "      <td>5.012000</td>\n",
       "      <td>51.480000</td>\n",
       "    </tr>\n",
       "    <tr>\n",
       "      <th>std</th>\n",
       "      <td>2.525094</td>\n",
       "      <td>25.286887</td>\n",
       "    </tr>\n",
       "    <tr>\n",
       "      <th>min</th>\n",
       "      <td>1.100000</td>\n",
       "      <td>17.000000</td>\n",
       "    </tr>\n",
       "    <tr>\n",
       "      <th>25%</th>\n",
       "      <td>2.700000</td>\n",
       "      <td>30.000000</td>\n",
       "    </tr>\n",
       "    <tr>\n",
       "      <th>50%</th>\n",
       "      <td>4.800000</td>\n",
       "      <td>47.000000</td>\n",
       "    </tr>\n",
       "    <tr>\n",
       "      <th>75%</th>\n",
       "      <td>7.400000</td>\n",
       "      <td>75.000000</td>\n",
       "    </tr>\n",
       "    <tr>\n",
       "      <th>max</th>\n",
       "      <td>9.200000</td>\n",
       "      <td>95.000000</td>\n",
       "    </tr>\n",
       "  </tbody>\n",
       "</table>\n",
       "</div>"
      ],
      "text/plain": [
       "           Hours     Scores\n",
       "count  25.000000  25.000000\n",
       "mean    5.012000  51.480000\n",
       "std     2.525094  25.286887\n",
       "min     1.100000  17.000000\n",
       "25%     2.700000  30.000000\n",
       "50%     4.800000  47.000000\n",
       "75%     7.400000  75.000000\n",
       "max     9.200000  95.000000"
      ]
     },
     "execution_count": 5,
     "metadata": {},
     "output_type": "execute_result"
    }
   ],
   "source": [
    "#THE DESCRIBE FEATURE GIVES US SOME IMPORTANT INFORMATION ABOUT OUR DATASET LIKE MEAN,COUNT,STANDARD DEVIATION ETC.\n",
    "data.describe()"
   ]
  },
  {
   "cell_type": "markdown",
   "id": "7bc77c13",
   "metadata": {},
   "source": [
    "# Now lets visualize the dataset in hand by plotting it using Matplotlib and Seaborn"
   ]
  },
  {
   "cell_type": "code",
   "execution_count": 6,
   "id": "07dff8a0",
   "metadata": {},
   "outputs": [
    {
     "data": {
      "image/png": "[encoded data removed]",
      "text/plain": [
       "<Figure size 432x288 with 1 Axes>"
      ]
     },
     "metadata": {},
     "output_type": "display_data"
    }
   ],
   "source": [
    "#VISUALIZING THE DATA \n",
    "sns.scatterplot(x = data['Hours'], y = data['Scores'])\n",
    "plt.xlabel('Hours Studies')\n",
    "plt.ylabel('Percentage Score Obtained')\n",
    "plt.title('Percentage score vs Hours studied')\n",
    "plt.show()"
   ]
  },
  {
   "cell_type": "markdown",
   "id": "602497d2",
   "metadata": {},
   "source": [
    "# Initializing the features and attributes and preparing the data"
   ]
  },
  {
   "cell_type": "code",
   "execution_count": 7,
   "id": "64ee9327",
   "metadata": {},
   "outputs": [],
   "source": [
    "#SEPARATING THE FEATURES AND TARGETS \n",
    "X = data.iloc[:, :-1].values  \n",
    "y = data.iloc[:, 1].values  "
   ]
  },
  {
   "cell_type": "code",
   "execution_count": 8,
   "id": "2e7e05c5",
   "metadata": {},
   "outputs": [],
   "source": [
    "#SPLITTING OUR DATASET INTO TRAINING AND TESTING SET\n",
    "X_train, X_test, y_train, y_test = train_test_split(X, y, test_size = 0.2, random_state = 0)"
   ]
  },
  {
   "cell_type": "code",
   "execution_count": 9,
   "id": "4ce1c73f",
   "metadata": {},
   "outputs": [
    {
     "name": "stdout",
     "output_type": "stream",
     "text": [
      "Number of training features : (20, 1)\n",
      "Number of training targets : (20,)\n",
      "Number of testing features: (5, 1)\n",
      "Number of testing targets: (5,)\n"
     ]
    }
   ],
   "source": [
    "#PRINTING THE TOTAL NUMBER OF TRAINING AND TESTING FEATURES AND SAMPLES\n",
    "print('Number of training features :' , X_train.shape)\n",
    "print('Number of training targets :' , y_train.shape)\n",
    "print('Number of testing features:' , X_test.shape)\n",
    "print('Number of testing targets:' , y_test.shape)"
   ]
  },
  {
   "cell_type": "markdown",
   "id": "670592e9",
   "metadata": {},
   "source": [
    "# Training the Algorithm"
   ]
  },
  {
   "cell_type": "code",
   "execution_count": 10,
   "id": "f4b66692",
   "metadata": {},
   "outputs": [
    {
     "name": "stdout",
     "output_type": "stream",
     "text": [
      "Fitting the training data is complete\n"
     ]
    }
   ],
   "source": [
    "#FITTING THE TRAINING DATA INTO THE LINEAR REGRESSION MODEL\n",
    "reg = LinearRegression()\n",
    "reg.fit(X_train, y_train)\n",
    "print('Fitting the training data is complete')"
   ]
  },
  {
   "cell_type": "code",
   "execution_count": 11,
   "id": "1c74a989",
   "metadata": {},
   "outputs": [
    {
     "data": {
      "text/plain": [
       "(array([9.91065648]), 2.018160041434683)"
      ]
     },
     "execution_count": 11,
     "metadata": {},
     "output_type": "execute_result"
    }
   ],
   "source": [
    "#PRINTING THE WEIGHT AND BIAS i.e., COEFFICIENT AND INTERCEPT RESPECTIVELY\n",
    "reg.coef_, reg.intercept_"
   ]
  },
  {
   "cell_type": "code",
   "execution_count": 12,
   "id": "e5159366",
   "metadata": {},
   "outputs": [
    {
     "data": {
      "image/png": "[encoded data removed]",
      "text/plain": [
       "<Figure size 432x288 with 1 Axes>"
      ]
     },
     "metadata": {},
     "output_type": "display_data"
    }
   ],
   "source": [
    "#PLOTTING THE REGRESSION LINE \n",
    "RegressionLine = reg.coef_*X + reg.intercept_\n",
    "plt.scatter(X,y)\n",
    "plt.plot(X, RegressionLine)\n",
    "plt.show()"
   ]
  },
  {
   "cell_type": "markdown",
   "id": "cf6a1f11",
   "metadata": {},
   "source": [
    "# Making Predictions"
   ]
  },
  {
   "cell_type": "code",
   "execution_count": 13,
   "id": "d9346c06",
   "metadata": {},
   "outputs": [
    {
     "data": {
      "text/plain": [
       "array([16.88414476, 33.73226078, 75.357018  , 26.79480124, 60.49103328])"
      ]
     },
     "execution_count": 13,
     "metadata": {},
     "output_type": "execute_result"
    }
   ],
   "source": [
    "#PREDICTED THE TARGET VALUES OF THE TESTING SET\n",
    "y_predicted = reg.predict(X_test)\n",
    "y_predicted"
   ]
  },
  {
   "cell_type": "code",
   "execution_count": 14,
   "id": "fcf509fd",
   "metadata": {},
   "outputs": [],
   "source": [
    "#CREATING A DATAFRAME AND DISPLAYING THE ACTUAL AND THE PREDICTED VALUE OF THE TESTING DATASET\n",
    "data1 = pd.DataFrame({'Actual Marks': y_test, 'Predicted Marks': y_predicted})"
   ]
  },
  {
   "cell_type": "code",
   "execution_count": 15,
   "id": "0c0b16a9",
   "metadata": {},
   "outputs": [
    {
     "data": {
      "text/html": [
       "<div>\n",
       "<style scoped>\n",
       "    .dataframe tbody tr th:only-of-type {\n",
       "        vertical-align: middle;\n",
       "    }\n",
       "\n",
       "    .dataframe tbody tr th {\n",
       "        vertical-align: top;\n",
       "    }\n",
       "\n",
       "    .dataframe thead th {\n",
       "        text-align: right;\n",
       "    }\n",
       "</style>\n",
       "<table border=\"1\" class=\"dataframe\">\n",
       "  <thead>\n",
       "    <tr style=\"text-align: right;\">\n",
       "      <th></th>\n",
       "      <th>Actual Marks</th>\n",
       "      <th>Predicted Marks</th>\n",
       "    </tr>\n",
       "  </thead>\n",
       "  <tbody>\n",
       "    <tr>\n",
       "      <th>0</th>\n",
       "      <td>20</td>\n",
       "      <td>16.884145</td>\n",
       "    </tr>\n",
       "    <tr>\n",
       "      <th>1</th>\n",
       "      <td>27</td>\n",
       "      <td>33.732261</td>\n",
       "    </tr>\n",
       "    <tr>\n",
       "      <th>2</th>\n",
       "      <td>69</td>\n",
       "      <td>75.357018</td>\n",
       "    </tr>\n",
       "    <tr>\n",
       "      <th>3</th>\n",
       "      <td>30</td>\n",
       "      <td>26.794801</td>\n",
       "    </tr>\n",
       "    <tr>\n",
       "      <th>4</th>\n",
       "      <td>62</td>\n",
       "      <td>60.491033</td>\n",
       "    </tr>\n",
       "  </tbody>\n",
       "</table>\n",
       "</div>"
      ],
      "text/plain": [
       "   Actual Marks  Predicted Marks\n",
       "0            20        16.884145\n",
       "1            27        33.732261\n",
       "2            69        75.357018\n",
       "3            30        26.794801\n",
       "4            62        60.491033"
      ]
     },
     "execution_count": 15,
     "metadata": {},
     "output_type": "execute_result"
    }
   ],
   "source": [
    "data1"
   ]
  },
  {
   "cell_type": "markdown",
   "id": "dd1fbd1f",
   "metadata": {},
   "source": [
    "# Calculating the Accuracy of our model"
   ]
  },
  {
   "cell_type": "code",
   "execution_count": 16,
   "id": "31d85e77",
   "metadata": {},
   "outputs": [
    {
     "name": "stdout",
     "output_type": "stream",
     "text": [
      "The accuracy of our model is  94.54906892105356 %\n"
     ]
    }
   ],
   "source": [
    "#OBTAINING THE ACCURACY OF OUR MODEL WITH THE HELP OF THE SCORE() FUNCTION\n",
    "Accuracy = reg.score(X_test, y_test)*100\n",
    "print('The accuracy of our model is ', Accuracy,'%')"
   ]
  },
  {
   "cell_type": "markdown",
   "id": "b1234221",
   "metadata": {},
   "source": [
    "# What will be predicted score if a student studies for 9.25 hrs/ day?"
   ]
  },
  {
   "cell_type": "code",
   "execution_count": 17,
   "id": "622baca9",
   "metadata": {},
   "outputs": [
    {
     "name": "stdout",
     "output_type": "stream",
     "text": [
      "The score of a student who studied 9.25 hours is  [93.69173249]\n"
     ]
    }
   ],
   "source": [
    "#PREDICITNG FOR AN ENTIRELY NEW VALUE OF OUR FEATURE\n",
    "hours = [9.25]\n",
    "final_score = reg.predict([hours])\n",
    "print('The score of a student who studied 9.25 hours is ', final_score)"
   ]
  },
  {
   "cell_type": "markdown",
   "id": "17267e69",
   "metadata": {},
   "source": [
    "# Evaluating the model by calculating the loss"
   ]
  },
  {
   "cell_type": "code",
   "execution_count": 18,
   "id": "b2b05d9e",
   "metadata": {},
   "outputs": [
    {
     "name": "stdout",
     "output_type": "stream",
     "text": [
      "The error in our model is: 4.183859899002975\n"
     ]
    }
   ],
   "source": [
    "#CALCULATING THE LOSS OCCURED IN OUR MODEL USING MEAN ABSOLUTE ERROR\n",
    "print('The error in our model is:', metrics.mean_absolute_error(y_test, y_predicted)) "
   ]
  },
  {
   "cell_type": "code",
   "execution_count": null,
   "id": "2107fef0",
   "metadata": {},
   "outputs": [],
   "source": []
  }
 ],
 "metadata": {
  "kernelspec": {
   "display_name": "Python 3",
   "language": "python",
   "name": "python3"
  },
  "language_info": {
   "codemirror_mode": {
    "name": "ipython",
    "version": 3
   },
   "file_extension": ".py",
   "mimetype": "text/x-python",
   "name": "python",
   "nbconvert_exporter": "python",
   "pygments_lexer": "ipython3",
   "version": "3.8.8"
  }
 },
 "nbformat": 4,
 "nbformat_minor": 5
}
